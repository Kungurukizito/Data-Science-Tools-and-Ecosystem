{
 "cells": [
  {
   "cell_type": "markdown",
   "id": "c5fa2d2f",
   "metadata": {},
   "source": [
    "# Data Science Tools and Ecosystem"
   ]
  },
  {
   "cell_type": "markdown",
   "id": "f201dd9e",
   "metadata": {},
   "source": [
    "In this notebook, Data Science Tools and Ecosystem are summarized.\n",
    "## Objectives\n",
    "1. List popular languages tha data scientists use\n",
    "2. List commonly used libraries by data scientist\n",
    "3. Create a table\n",
    "4. Introduce arithmetic expessions"
   ]
  },
  {
   "cell_type": "markdown",
   "id": "14f83bee",
   "metadata": {},
   "source": [
    "Some of the popular languages that Data Scientists use are:\n",
    "1. Python\n",
    "2. SQL\n",
    "3. Julia\n",
    "4. Scala\n",
    "5. Java\n",
    "6. MATLAB\n",
    "7. Java Script\n",
    "8. C++\n",
    "9. SAS"
   ]
  },
  {
   "cell_type": "markdown",
   "id": "36fe105c",
   "metadata": {},
   "source": [
    "Some of the commonly used libraries used by Data Scientists include:\n",
    "1. Numpy\n",
    "2. Pandas\n",
    "3. Keras\n",
    "4. PyTorch\n",
    "5. Matplotlib\n",
    "6. SciPy\n",
    "7. Scikit-Learn\n",
    "8. Pycaret"
   ]
  },
  {
   "cell_type": "markdown",
   "id": "c15d9dab",
   "metadata": {},
   "source": [
    "| Data Science Tools |\n",
    "|____________________|\n",
    "|                    |\n"
   ]
  },
  {
   "cell_type": "markdown",
   "id": "c91260f8",
   "metadata": {},
   "source": [
    "### introducing arithmetic expression examples"
   ]
  },
  {
   "cell_type": "markdown",
   "id": "dc1cdc51",
   "metadata": {},
   "source": [
    "Below are a few examples of evaluating arithmetic expressions in Python"
   ]
  },
  {
   "cell_type": "code",
   "execution_count": 2,
   "id": "20d370df",
   "metadata": {},
   "outputs": [
    {
     "data": {
      "text/plain": [
       "17"
      ]
     },
     "execution_count": 2,
     "metadata": {},
     "output_type": "execute_result"
    }
   ],
   "source": [
    "(3*4)+5\n",
    "This a simple arithmetic expression to mutiply then add integers"
   ]
  },
  {
   "cell_type": "markdown",
   "id": "c6e29608",
   "metadata": {},
   "source": [
    "# Exercise 9 - Create a code cell to convert minutes to hours"
   ]
  },
  {
   "cell_type": "code",
   "execution_count": 4,
   "id": "8aee04ef",
   "metadata": {},
   "outputs": [
    {
     "data": {
      "text/plain": [
       "3.3333333333333335"
      ]
     },
     "execution_count": 4,
     "metadata": {},
     "output_type": "execute_result"
    }
   ],
   "source": [
    "200/60\n",
    "This will convert 200 minutes to hours by diving by 60"
   ]
  },
  {
   "cell_type": "markdown",
   "id": "57c2a7fc",
   "metadata": {},
   "source": [
    "## Author\n",
    "Kunguru Kizito"
   ]
  }
 ],
 "metadata": {
  "kernelspec": {
   "display_name": "Python 3 (ipykernel)",
   "language": "python",
   "name": "python3"
  },
  "language_info": {
   "codemirror_mode": {
    "name": "ipython",
    "version": 3
   },
   "file_extension": ".py",
   "mimetype": "text/x-python",
   "name": "python",
   "nbconvert_exporter": "python",
   "pygments_lexer": "ipython3",
   "version": "3.9.13"
  }
 },
 "nbformat": 4,
 "nbformat_minor": 5
}
